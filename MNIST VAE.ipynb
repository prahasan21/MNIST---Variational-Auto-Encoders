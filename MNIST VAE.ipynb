{
 "cells": [
  {
   "cell_type": "markdown",
   "metadata": {
    "colab_type": "text",
    "id": "kZ3_VxsBrxUE"
   },
   "source": [
    "## Variational Autoencoders on Poor Sevens "
   ]
  },
  {
   "cell_type": "code",
   "execution_count": 0,
   "metadata": {
    "colab": {},
    "colab_type": "code",
    "id": "H5RdaSQWdlZ9"
   },
   "outputs": [],
   "source": [
    "import numpy as np\n",
    "import matplotlib.pyplot as plt\n",
    "from scipy.stats import norm\n",
    "import tensorflow as tf\n",
    "import pickle\n",
    "import random"
   ]
  },
  {
   "cell_type": "code",
   "execution_count": 0,
   "metadata": {
    "colab": {},
    "colab_type": "code",
    "id": "XG_Ns8buqua_"
   },
   "outputs": [],
   "source": [
    "with open('gdrive/My Drive/Deep Learning HW 4/hw4_tr7.pkl', 'rb') as fi:\n",
    "    train_sevens = pickle.load(fi)\n",
    "\n",
    "with open('gdrive/My Drive/Deep Learning HW 4/hw4_te7.pkl', 'rb') as fi:\n",
    "    test_sevens = pickle.load(fi)\n"
   ]
  },
  {
   "cell_type": "code",
   "execution_count": 0,
   "metadata": {
    "colab": {},
    "colab_type": "code",
    "id": "ba3ASu9nq1jk"
   },
   "outputs": [],
   "source": [
    "train_sevens.shape,test_sevens.shape"
   ]
  },
  {
   "cell_type": "code",
   "execution_count": 0,
   "metadata": {
    "colab": {},
    "colab_type": "code",
    "id": "2ME6vmSSq7AS"
   },
   "outputs": [],
   "source": [
    "train_sevens = train_sevens.reshape((6265, 784))\n",
    "train_sevens.shape"
   ]
  },
  {
   "cell_type": "markdown",
   "metadata": {
    "colab_type": "text",
    "id": "mNtyDKIXq_d9"
   },
   "source": [
    "\n",
    "\n",
    "\n",
    "#### Network Architechture for Encoder and Decoder Network: <br>\n",
    "-> Input dimensions = 784 <br> \n",
    "-> 3 hidden layers with 512 hidden units each <br>\n",
    "-> Xavier initialization for biases and weights<br>\n",
    "-> RMSprop optimizer and Reconstruction loss + KL divergence as the loss function.<br>\n",
    "-> ReLu,ReLu,tanh as the encoder network activations.<br>\n",
    "-> tanh,ReLu and sigmoid activation function for input,middle and utput layer for the decoder network<br>\n",
    "-> Learning rate = 0.001<br>\n",
    "-> Latent dimensions are 4."
   ]
  },
  {
   "cell_type": "code",
   "execution_count": 0,
   "metadata": {
    "colab": {},
    "colab_type": "code",
    "id": "D31c8lwZrACT"
   },
   "outputs": [],
   "source": [
    "\n",
    "batch_size = 64\n",
    "hidden_dim = 512\n",
    "latent_dim = 4\n",
    "#GLorit initialization is tested but not used.\n",
    "def glorot_init(shape):\n",
    "    return tf.random_normal(shape=shape, stddev=1. / tf.sqrt(shape[0] / 2.))"
   ]
  },
  {
   "cell_type": "code",
   "execution_count": 0,
   "metadata": {
    "colab": {},
    "colab_type": "code",
    "id": "BWxR63DhrJTE"
   },
   "outputs": [],
   "source": [
    "random.seed(50)\n",
    "\n",
    "\n",
    "encoder_h1 = {'w':tf.Variable(glorot_init([784,hidden_dim])),'b':tf.Variable(glorot_init([hidden_dim]))}\n",
    "encoder_h2 = {'w':tf.Variable(glorot_init([hidden_dim,hidden_dim])),'b':tf.Variable(glorot_init([hidden_dim]))}\n",
    "encoder_h3 = {'w':tf.Variable(glorot_init([hidden_dim,hidden_dim])),'b':tf.Variable(glorot_init([hidden_dim]))}\n",
    "encoder_h4 = {'w':tf.Variable(glorot_init([hidden_dim,hidden_dim])),'b':tf.Variable(glorot_init([hidden_dim]))}\n",
    "encoder_h5 = {'w':tf.Variable(glorot_init([hidden_dim,hidden_dim])),'b':tf.Variable(glorot_init([hidden_dim]))}\n",
    "\n",
    "\n",
    "z_mean = {'w':tf.Variable(glorot_init([hidden_dim,latent_dim])),'b':tf.Variable(glorot_init([latent_dim]))}\n",
    "z_std = {'w':tf.Variable(glorot_init([hidden_dim,latent_dim])),'b':tf.Variable(glorot_init([latent_dim]))}\n",
    "\n",
    "\n",
    "decoder_h1 = {'w':tf.Variable(glorot_init([latent_dim,hidden_dim])),'b':tf.Variable(glorot_init([hidden_dim]))}\n",
    "decoder_h2 = {'w':tf.Variable(glorot_init([hidden_dim,hidden_dim])),'b':tf.Variable(glorot_init([hidden_dim]))}\n",
    "decoder_h3 = {'w':tf.Variable(glorot_init([hidden_dim,hidden_dim])),'b':tf.Variable(glorot_init([hidden_dim]))}\n",
    "decoder_h4 = {'w':tf.Variable(glorot_init([hidden_dim,hidden_dim])),'b':tf.Variable(glorot_init([hidden_dim]))}\n",
    "decoder_h5 = {'w':tf.Variable(glorot_init([hidden_dim,hidden_dim])),'b':tf.Variable(glorot_init([hidden_dim]))}\n",
    "\n",
    "decoder_out = {'w':tf.Variable(glorot_init([hidden_dim,784])),'b':tf.Variable(glorot_init([784]))}\n",
    "\n",
    "#(input_data*weights) + biases\n",
    "x = tf.placeholder(tf.float32, shape=[None, 784])\n",
    "le1 = tf.add(tf.matmul(x, encoder_h1['w']),encoder_h1['b'])\n",
    "le1 = tf.nn.relu(le1)\n",
    "\n",
    "le2 = tf.add(tf.matmul(le1, encoder_h2['w']),encoder_h2['b'])\n",
    "le2 = tf.nn.relu(le2)\n",
    "\n",
    "le3 = tf.add(tf.matmul(le2, encoder_h3['w']),encoder_h3['b'])\n",
    "le3 = tf.nn.tanh(le3)\n",
    "\n",
    "lz_mean = tf.matmul(le3, z_mean['w']) + z_mean['b']\n",
    "lz_std = tf.matmul(le3, z_std['w']) + z_std['b']\n",
    "\n",
    "eps = tf.random_normal(tf.shape(lz_std), dtype=tf.float32, mean=0., stddev=1.0,\n",
    "                       name='epsilon')\n",
    "\n",
    "z = lz_mean + tf.exp(lz_std / 2) * eps\n",
    "\n",
    "lde1 = tf.matmul(z, decoder_h1['w']) + decoder_h1['b']\n",
    "lde1 = tf.nn.tanh(lde1)\n",
    "lde2 = tf.matmul(lde1, decoder_h2['w']) + decoder_h2['b']\n",
    "lde2 = tf.nn.relu(lde2)\n",
    "lde3 = tf.matmul(lde2, decoder_h3['w']) + decoder_h3['b']\n",
    "lde3 = tf.nn.relu(lde3)\n",
    "\n",
    "dec = tf.matmul(lde3, decoder_out['w']) + decoder_out['b']\n",
    "dec = tf.nn.sigmoid(dec)\n"
   ]
  },
  {
   "cell_type": "code",
   "execution_count": 0,
   "metadata": {
    "colab": {},
    "colab_type": "code",
    "id": "A2k-zps5rNht"
   },
   "outputs": [],
   "source": [
    "random.seed(50)\n",
    "\n",
    "xavier_init = tf.contrib.layers.xavier_initializer()\n",
    "\n",
    "encoder_h1 = {'w':tf.Variable(xavier_init([784,hidden_dim])),'b':tf.Variable(xavier_init([hidden_dim]))}\n",
    "encoder_h2 = {'w':tf.Variable(xavier_init([hidden_dim,hidden_dim])),'b':tf.Variable(xavier_init([hidden_dim]))}\n",
    "encoder_h3 = {'w':tf.Variable(xavier_init([hidden_dim,hidden_dim])),'b':tf.Variable(xavier_init([hidden_dim]))}\n",
    "encoder_h4 = {'w':tf.Variable(xavier_init([hidden_dim,hidden_dim])),'b':tf.Variable(xavier_init([hidden_dim]))}\n",
    "encoder_h5 = {'w':tf.Variable(xavier_init([hidden_dim,hidden_dim])),'b':tf.Variable(xavier_init([hidden_dim]))}\n",
    "\n",
    "z_mean = {'w':tf.Variable(xavier_init([hidden_dim,latent_dim])),'b':tf.Variable(xavier_init([latent_dim]))}\n",
    "z_std = {'w':tf.Variable(xavier_init([hidden_dim,latent_dim])),'b':tf.Variable(xavier_init([latent_dim]))}\n",
    "\n",
    "decoder_h1 = {'w':tf.Variable(xavier_init([latent_dim,hidden_dim])),'b':tf.Variable(xavier_init([hidden_dim]))}\n",
    "decoder_h2 = {'w':tf.Variable(xavier_init([hidden_dim,hidden_dim])),'b':tf.Variable(xavier_init([hidden_dim]))}\n",
    "decoder_h3 = {'w':tf.Variable(xavier_init([hidden_dim,hidden_dim])),'b':tf.Variable(xavier_init([hidden_dim]))}\n",
    "decoder_h4 = {'w':tf.Variable(xavier_init([hidden_dim,hidden_dim])),'b':tf.Variable(xavier_init([hidden_dim]))}\n",
    "decoder_h5 = {'w':tf.Variable(xavier_init([hidden_dim,hidden_dim])),'b':tf.Variable(xavier_init([hidden_dim]))}\n",
    "\n",
    "decoder_out = {'w':tf.Variable(xavier_init([hidden_dim,784])),'b':tf.Variable(xavier_init([784]))}\n",
    "\n",
    "#(input_data*weights) + biases\n",
    "x = tf.placeholder(tf.float32, shape=[None, 784])\n",
    "le1 = tf.add(tf.matmul(x, encoder_h1['w']),encoder_h1['b'])\n",
    "le1 = tf.nn.relu(le1)\n",
    "\n",
    "le2 = tf.add(tf.matmul(le1, encoder_h2['w']),encoder_h2['b'])\n",
    "le2 = tf.nn.relu(le2)\n",
    "\n",
    "le3 = tf.add(tf.matmul(le2, encoder_h3['w']),encoder_h3['b'])\n",
    "le3 = tf.nn.tanh(le3)\n",
    "\n",
    "\n",
    "\n",
    "lz_mean = tf.matmul(le3, z_mean['w']) + z_mean['b']\n",
    "lz_std = tf.matmul(le3, z_std['w']) + z_std['b']\n",
    "\n",
    "eps = tf.random_normal(tf.shape(lz_std), dtype=tf.float32, mean=0., stddev=1.0,\n",
    "                       name='epsilon')\n",
    "\n",
    "z = lz_mean + tf.exp(lz_std / 2) * eps\n",
    "\n",
    "lde1 = tf.matmul(z, decoder_h1['w']) + decoder_h1['b']\n",
    "lde1 = tf.nn.tanh(lde1)\n",
    "lde2 = tf.matmul(lde1, decoder_h2['w']) + decoder_h2['b']\n",
    "lde2 = tf.nn.relu(lde2)\n",
    "lde3 = tf.matmul(lde2, decoder_h3['w']) + decoder_h3['b']\n",
    "lde3 = tf.nn.relu(lde3)\n",
    "\n",
    "dec = tf.matmul(lde3, decoder_out['w']) + decoder_out['b']\n",
    "dec = tf.nn.sigmoid(dec)\n"
   ]
  },
  {
   "cell_type": "code",
   "execution_count": 0,
   "metadata": {
    "colab": {},
    "colab_type": "code",
    "id": "Ra846xLXrRvQ"
   },
   "outputs": [],
   "source": [
    "\n",
    "# Reconstruction loss\n",
    "encode_decode_loss = x * tf.log(1e-10 + dec) \\\n",
    "                      + (1 - x) * tf.log(1e-10 + 1 - dec)\n",
    "\n",
    "encode_decode_loss = -tf.reduce_sum(encode_decode_loss, 1)\n",
    "\n",
    "# KL Divergence loss\n",
    "kl_div_loss = 1 + lz_std - tf.square(lz_mean) - tf.exp(lz_std)\n",
    "kl_div_loss = -0.5 * tf.reduce_sum(kl_div_loss, 1)\n",
    "\n",
    "cost_func = tf.reduce_mean(encode_decode_loss + kl_div_loss) \n",
    "optimizer = tf.train.RMSPropOptimizer(0.001).minimize(cost_func)\n",
    "\n",
    "init = tf.global_variables_initializer()"
   ]
  },
  {
   "cell_type": "code",
   "execution_count": 0,
   "metadata": {
    "colab": {
     "base_uri": "https://localhost:8080/",
     "height": 897
    },
    "colab_type": "code",
    "id": "1V8YixXrrXNU",
    "outputId": "0b1c8c7a-6b04-433a-9b42-7e05326a4c87"
   },
   "outputs": [
    {
     "name": "stdout",
     "output_type": "stream",
     "text": [
      "epoch 0 loss 26779.034271240234\n",
      "epoch 1 loss 16917.709091186523\n",
      "epoch 2 loss 14058.269409179688\n",
      "epoch 3 loss 13304.18881225586\n",
      "epoch 4 loss 12922.327285766602\n",
      "epoch 5 loss 12447.424270629883\n",
      "epoch 6 loss 12132.443450927734\n",
      "epoch 7 loss 11881.341743469238\n",
      "epoch 8 loss 11720.571884155273\n",
      "epoch 9 loss 11603.340255737305\n",
      "epoch 10 loss 11492.073936462402\n",
      "epoch 11 loss 11387.847312927246\n",
      "epoch 12 loss 11314.856826782227\n",
      "epoch 13 loss 11239.817192077637\n",
      "epoch 14 loss 11162.21605682373\n",
      "epoch 15 loss 11118.288543701172\n",
      "epoch 16 loss 11043.099411010742\n",
      "epoch 17 loss 10996.289840698242\n",
      "epoch 18 loss 10947.983200073242\n",
      "epoch 19 loss 10892.245010375977\n",
      "epoch 20 loss 10857.331909179688\n",
      "epoch 21 loss 10835.874725341797\n",
      "epoch 22 loss 10788.102699279785\n",
      "epoch 23 loss 10755.126167297363\n",
      "epoch 24 loss 10710.842010498047\n",
      "epoch 25 loss 10701.381477355957\n",
      "epoch 26 loss 10659.526916503906\n",
      "epoch 27 loss 10624.833969116211\n",
      "epoch 28 loss 10600.913635253906\n",
      "epoch 29 loss 10577.37516784668\n",
      "epoch 30 loss 10558.043617248535\n",
      "epoch 31 loss 10519.808029174805\n",
      "epoch 32 loss 10512.007904052734\n",
      "epoch 33 loss 10485.44847869873\n",
      "epoch 34 loss 10458.300193786621\n",
      "epoch 35 loss 10449.26993560791\n",
      "epoch 36 loss 10415.227111816406\n",
      "epoch 37 loss 10398.111999511719\n",
      "epoch 38 loss 10386.723274230957\n",
      "epoch 39 loss 10358.602104187012\n",
      "epoch 40 loss 10342.113784790039\n",
      "epoch 41 loss 10322.25830078125\n",
      "epoch 42 loss 10317.440353393555\n",
      "epoch 43 loss 10277.186309814453\n",
      "epoch 44 loss 10286.817169189453\n",
      "epoch 45 loss 10268.844734191895\n",
      "epoch 46 loss 10249.462059020996\n",
      "epoch 47 loss 10240.789199829102\n",
      "epoch 48 loss 10201.904174804688\n",
      "epoch 49 loss 10202.041160583496\n"
     ]
    }
   ],
   "source": [
    "sess = tf.Session()\n",
    "sess.run(init)\n",
    "\n",
    "n_epochs = 50\n",
    "for epoch in range(n_epochs):\n",
    "      epoch_loss = 0\n",
    "      for i in range(int(train_sevens.shape[0]/batch_size)):\n",
    "        epoch_x = train_sevens[i*batch_size : (i+1)*batch_size]\n",
    "        _,c = sess.run([optimizer,cost_func], feed_dict = {x:epoch_x})\n",
    "        epoch_loss += c\n",
    "      print('epoch',epoch,'loss',epoch_loss)\n"
   ]
  },
  {
   "cell_type": "code",
   "execution_count": 0,
   "metadata": {
    "colab": {},
    "colab_type": "code",
    "id": "sOICgkdFreYT"
   },
   "outputs": [],
   "source": [
    "dec_input = tf.placeholder(tf.float32, shape=[None, latent_dim])\n",
    "#Decoder network\n",
    "dec1 = tf.matmul(dec_input, decoder_h1['w']) + decoder_h1['b']\n",
    "dec1 = tf.nn.tanh(dec1)\n",
    "dec2 = tf.matmul(dec1, decoder_h2['w']) + decoder_h2['b']\n",
    "dec2 = tf.nn.relu(dec2)\n",
    "dec3 = tf.matmul(dec2, decoder_h3['w']) + decoder_h3['b']\n",
    "dec3 = tf.nn.relu(dec3)\n",
    "deco = tf.matmul(dec3, decoder_out['w']) + decoder_out['b']\n",
    "deco = tf.nn.sigmoid(deco)"
   ]
  },
  {
   "cell_type": "code",
   "execution_count": 0,
   "metadata": {
    "colab": {
     "base_uri": "https://localhost:8080/",
     "height": 281
    },
    "colab_type": "code",
    "id": "951ZDIUVrkVR",
    "outputId": "82b36ec5-0cb5-43e5-eeb9-7ad9b8c256b1"
   },
   "outputs": [
    {
     "data": {
      "image/png": "[encoded data removed]",
      "text/plain": [
       "<Figure size 432x288 with 20 Axes>"
      ]
     },
     "metadata": {
      "tags": []
     },
     "output_type": "display_data"
    }
   ],
   "source": [
    "image_samples = 5\n",
    "fig, axis = plt.subplots(latent_dim, image_samples)\n",
    "for i in range(latent_dim):\n",
    "  latent_image = np.tile(np.random.randn(1, latent_dim), reps=[1, 1])\n",
    "  partial_sample = np.delete(latent_image, i, axis=1)\n",
    "  for j in range(image_samples):\n",
    "    latent_image = np.tile(np.random.randn(1, 1), reps=[1, 1])\n",
    "    new_latent_image = np.hstack((partial_sample[:,:i], latent_image, partial_sample[:,i:]))\n",
    "    pred_image = sess.run(deco, feed_dict={dec_input: new_latent_image})\n",
    "    axis[i,j].imshow(pred_image.reshape(28, 28))\n",
    "\n",
    "attr = ['Sample 1', 'Sample 2', 'Sample 3', 'Sample 4', 'Sample 5']\n",
    "rows = ['Dim 1','Dim 2 ','Dim 3','Dim 4' ]\n",
    "\n",
    "for ax, att in zip(axis[0], attr):\n",
    "  ax.set_title(att)\n",
    "for ax, row in zip(axis[:,0], rows):\n",
    "    ax.set_ylabel(row)\n",
    "plt.show()"
   ]
  },
  {
   "cell_type": "markdown",
   "metadata": {
    "colab_type": "text",
    "id": "_UysSQSHrsq_"
   },
   "source": [
    "\n",
    "The images of the digits formed by the decoder have been plotted by changing the dimensions.\n",
    "\n",
    "Each dimension has been fixed at a time and then plotting the other one. Five samples are generated for each dimension. \n",
    "\n",
    "In the above image the rows give the information about the different dimensions where as columns provide the information regarding the decoder output.\n",
    "\n",
    "Looking at the images the poor sevens have a gradual rotation effect on them.\n"
   ]
  },
  {
   "cell_type": "code",
   "execution_count": 0,
   "metadata": {
    "colab": {},
    "colab_type": "code",
    "id": "4iRUsv0yruKG"
   },
   "outputs": [],
   "source": []
  }
 ],
 "metadata": {
  "accelerator": "GPU",
  "colab": {
   "collapsed_sections": [],
   "name": "Deep_Learning_HW4_Prahasan.ipynb",
   "provenance": []
  },
  "kernelspec": {
   "display_name": "Python 3",
   "language": "python",
   "name": "python3"
  },
  "language_info": {
   "codemirror_mode": {
    "name": "ipython",
    "version": 3
   },
   "file_extension": ".py",
   "mimetype": "text/x-python",
   "name": "python",
   "nbconvert_exporter": "python",
   "pygments_lexer": "ipython3",
   "version": "3.7.1"
  }
 },
 "nbformat": 4,
 "nbformat_minor": 1
}
